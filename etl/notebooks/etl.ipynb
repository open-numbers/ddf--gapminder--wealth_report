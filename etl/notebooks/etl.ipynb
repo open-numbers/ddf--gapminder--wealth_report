{
 "cells": [
  {
   "cell_type": "markdown",
   "id": "9b08414c",
   "metadata": {},
   "source": [
    "FIXME: change year -> time"
   ]
  },
  {
   "cell_type": "code",
   "execution_count": 1,
   "id": "ff453e33",
   "metadata": {},
   "outputs": [],
   "source": [
    "import pandas as pd\n",
    "import numpy as np\n",
    "import os"
   ]
  },
  {
   "cell_type": "code",
   "execution_count": 2,
   "id": "f8ac9b2f",
   "metadata": {},
   "outputs": [],
   "source": [
    "from ddf_utils.str import to_concept_id"
   ]
  },
  {
   "cell_type": "code",
   "execution_count": 3,
   "id": "f4ad8f89",
   "metadata": {},
   "outputs": [],
   "source": [
    "data = pd.read_csv('../source/Credit Suisse Wealth Report - Dataset - v1 - Data Source.csv')"
   ]
  },
  {
   "cell_type": "code",
   "execution_count": 29,
   "id": "70a3bae9",
   "metadata": {},
   "outputs": [],
   "source": [
    "synonyms = pd.read_csv('../../../ddf--open_numbers/ddf--synonyms--geo.csv', dtype=str).set_index('synonym')['geo'].to_dict()"
   ]
  },
  {
   "cell_type": "code",
   "execution_count": null,
   "id": "8b0ef533",
   "metadata": {},
   "outputs": [],
   "source": []
  },
  {
   "cell_type": "code",
   "execution_count": 31,
   "id": "c8482489",
   "metadata": {},
   "outputs": [
    {
     "data": {
      "text/html": [
       "<div>\n",
       "<style scoped>\n",
       "    .dataframe tbody tr th:only-of-type {\n",
       "        vertical-align: middle;\n",
       "    }\n",
       "\n",
       "    .dataframe tbody tr th {\n",
       "        vertical-align: top;\n",
       "    }\n",
       "\n",
       "    .dataframe thead th {\n",
       "        text-align: right;\n",
       "    }\n",
       "</style>\n",
       "<table border=\"1\" class=\"dataframe\">\n",
       "  <thead>\n",
       "    <tr style=\"text-align: right;\">\n",
       "      <th></th>\n",
       "      <th>Year</th>\n",
       "      <th>Country</th>\n",
       "      <th>Adults (Thousands)</th>\n",
       "      <th>Mean Wealth per Adult</th>\n",
       "      <th>Median Wealth per Adult</th>\n",
       "      <th>Adults % under 10000</th>\n",
       "      <th>Adults % between 10000-100k</th>\n",
       "      <th>Adults % between 100k-1M</th>\n",
       "      <th>Adults % over 1M</th>\n",
       "      <th>Total</th>\n",
       "      <th>Gini %</th>\n",
       "    </tr>\n",
       "  </thead>\n",
       "  <tbody>\n",
       "    <tr>\n",
       "      <th>0</th>\n",
       "      <td>2020</td>\n",
       "      <td>afg</td>\n",
       "      <td>18356</td>\n",
       "      <td>1744</td>\n",
       "      <td>734</td>\n",
       "      <td>97.6</td>\n",
       "      <td>2.4</td>\n",
       "      <td>0.1</td>\n",
       "      <td>0.0</td>\n",
       "      <td>100</td>\n",
       "      <td>72.8</td>\n",
       "    </tr>\n",
       "    <tr>\n",
       "      <th>1</th>\n",
       "      <td>2020</td>\n",
       "      <td>alb</td>\n",
       "      <td>2187</td>\n",
       "      <td>30524</td>\n",
       "      <td>15363</td>\n",
       "      <td>41.0</td>\n",
       "      <td>54.2</td>\n",
       "      <td>4.7</td>\n",
       "      <td>0.1</td>\n",
       "      <td>100</td>\n",
       "      <td>68.2</td>\n",
       "    </tr>\n",
       "    <tr>\n",
       "      <th>2</th>\n",
       "      <td>2020</td>\n",
       "      <td>dza</td>\n",
       "      <td>27620</td>\n",
       "      <td>8871</td>\n",
       "      <td>2302</td>\n",
       "      <td>87.0</td>\n",
       "      <td>11.7</td>\n",
       "      <td>1.2</td>\n",
       "      <td>0.1</td>\n",
       "      <td>100</td>\n",
       "      <td>84.8</td>\n",
       "    </tr>\n",
       "    <tr>\n",
       "      <th>3</th>\n",
       "      <td>2020</td>\n",
       "      <td>ago</td>\n",
       "      <td>14339</td>\n",
       "      <td>3529</td>\n",
       "      <td>1131</td>\n",
       "      <td>93.5</td>\n",
       "      <td>6.2</td>\n",
       "      <td>0.2</td>\n",
       "      <td>0.0</td>\n",
       "      <td>100</td>\n",
       "      <td>80.6</td>\n",
       "    </tr>\n",
       "    <tr>\n",
       "      <th>4</th>\n",
       "      <td>2020</td>\n",
       "      <td>arg</td>\n",
       "      <td>30799</td>\n",
       "      <td>7224</td>\n",
       "      <td>2157</td>\n",
       "      <td>88.2</td>\n",
       "      <td>11.2</td>\n",
       "      <td>0.6</td>\n",
       "      <td>0.0</td>\n",
       "      <td>100</td>\n",
       "      <td>81.2</td>\n",
       "    </tr>\n",
       "    <tr>\n",
       "      <th>...</th>\n",
       "      <td>...</td>\n",
       "      <td>...</td>\n",
       "      <td>...</td>\n",
       "      <td>...</td>\n",
       "      <td>...</td>\n",
       "      <td>...</td>\n",
       "      <td>...</td>\n",
       "      <td>...</td>\n",
       "      <td>...</td>\n",
       "      <td>...</td>\n",
       "      <td>...</td>\n",
       "    </tr>\n",
       "    <tr>\n",
       "      <th>1542</th>\n",
       "      <td>2012</td>\n",
       "      <td>vnm</td>\n",
       "      <td>60431</td>\n",
       "      <td>4652</td>\n",
       "      <td>2257</td>\n",
       "      <td>89.6</td>\n",
       "      <td>10.3</td>\n",
       "      <td>0.2</td>\n",
       "      <td>0.0</td>\n",
       "      <td>100</td>\n",
       "      <td>65.9</td>\n",
       "    </tr>\n",
       "    <tr>\n",
       "      <th>1543</th>\n",
       "      <td>2012</td>\n",
       "      <td>pse</td>\n",
       "      <td>1738</td>\n",
       "      <td>8856</td>\n",
       "      <td>4320</td>\n",
       "      <td>72.5</td>\n",
       "      <td>26.9</td>\n",
       "      <td>0.6</td>\n",
       "      <td>0.0</td>\n",
       "      <td>100</td>\n",
       "      <td>65.9</td>\n",
       "    </tr>\n",
       "    <tr>\n",
       "      <th>1544</th>\n",
       "      <td>2012</td>\n",
       "      <td>yem</td>\n",
       "      <td>11732</td>\n",
       "      <td>4731</td>\n",
       "      <td>2228</td>\n",
       "      <td>89.7</td>\n",
       "      <td>10.1</td>\n",
       "      <td>0.2</td>\n",
       "      <td>0.0</td>\n",
       "      <td>100</td>\n",
       "      <td>66.9</td>\n",
       "    </tr>\n",
       "    <tr>\n",
       "      <th>1545</th>\n",
       "      <td>2012</td>\n",
       "      <td>zmb</td>\n",
       "      <td>5991</td>\n",
       "      <td>1742</td>\n",
       "      <td>539</td>\n",
       "      <td>97.0</td>\n",
       "      <td>3.0</td>\n",
       "      <td>0.0</td>\n",
       "      <td>0.0</td>\n",
       "      <td>100</td>\n",
       "      <td>74.1</td>\n",
       "    </tr>\n",
       "    <tr>\n",
       "      <th>1546</th>\n",
       "      <td>2012</td>\n",
       "      <td>zwe</td>\n",
       "      <td>6420</td>\n",
       "      <td>2343</td>\n",
       "      <td>397</td>\n",
       "      <td>95.1</td>\n",
       "      <td>4.8</td>\n",
       "      <td>0.2</td>\n",
       "      <td>0.0</td>\n",
       "      <td>100</td>\n",
       "      <td>83.8</td>\n",
       "    </tr>\n",
       "  </tbody>\n",
       "</table>\n",
       "<p>1547 rows × 11 columns</p>\n",
       "</div>"
      ],
      "text/plain": [
       "      Year Country   Adults (Thousands)   Mean Wealth per Adult  \\\n",
       "0     2020     afg                18356                    1744   \n",
       "1     2020     alb                 2187                   30524   \n",
       "2     2020     dza                27620                    8871   \n",
       "3     2020     ago                14339                    3529   \n",
       "4     2020     arg                30799                    7224   \n",
       "...    ...     ...                  ...                     ...   \n",
       "1542  2012     vnm                60431                    4652   \n",
       "1543  2012     pse                 1738                    8856   \n",
       "1544  2012     yem                11732                    4731   \n",
       "1545  2012     zmb                 5991                    1742   \n",
       "1546  2012     zwe                 6420                    2343   \n",
       "\n",
       "       Median Wealth per Adult   Adults % under 10000  \\\n",
       "0                          734                   97.6   \n",
       "1                        15363                   41.0   \n",
       "2                         2302                   87.0   \n",
       "3                         1131                   93.5   \n",
       "4                         2157                   88.2   \n",
       "...                        ...                    ...   \n",
       "1542                      2257                   89.6   \n",
       "1543                      4320                   72.5   \n",
       "1544                      2228                   89.7   \n",
       "1545                       539                   97.0   \n",
       "1546                       397                   95.1   \n",
       "\n",
       "       Adults % between 10000-100k   Adults % between 100k-1M  \\\n",
       "0                              2.4                        0.1   \n",
       "1                             54.2                        4.7   \n",
       "2                             11.7                        1.2   \n",
       "3                              6.2                        0.2   \n",
       "4                             11.2                        0.6   \n",
       "...                            ...                        ...   \n",
       "1542                          10.3                        0.2   \n",
       "1543                          26.9                        0.6   \n",
       "1544                          10.1                        0.2   \n",
       "1545                           3.0                        0.0   \n",
       "1546                           4.8                        0.2   \n",
       "\n",
       "       Adults % over 1M   Total   Gini %  \n",
       "0                   0.0     100     72.8  \n",
       "1                   0.1     100     68.2  \n",
       "2                   0.1     100     84.8  \n",
       "3                   0.0     100     80.6  \n",
       "4                   0.0     100     81.2  \n",
       "...                 ...     ...      ...  \n",
       "1542                0.0     100     65.9  \n",
       "1543                0.0     100     65.9  \n",
       "1544                0.0     100     66.9  \n",
       "1545                0.0     100     74.1  \n",
       "1546                0.0     100     83.8  \n",
       "\n",
       "[1547 rows x 11 columns]"
      ]
     },
     "execution_count": 31,
     "metadata": {},
     "output_type": "execute_result"
    }
   ],
   "source": [
    "data "
   ]
  },
  {
   "cell_type": "code",
   "execution_count": 33,
   "id": "9aa4c5a8",
   "metadata": {},
   "outputs": [
    {
     "data": {
      "text/plain": [
       "False"
      ]
     },
     "execution_count": 33,
     "metadata": {},
     "output_type": "execute_result"
    }
   ],
   "source": [
    "data['Country'].hasnans"
   ]
  },
  {
   "cell_type": "code",
   "execution_count": null,
   "id": "7cb1467c",
   "metadata": {},
   "outputs": [],
   "source": []
  },
  {
   "cell_type": "code",
   "execution_count": 5,
   "id": "e39511ff",
   "metadata": {},
   "outputs": [
    {
     "name": "stdout",
     "output_type": "stream",
     "text": [
      "British Caribbean\n",
      "Dutch Caribbean\n",
      "French Caribbean\n",
      "Melanesia\n",
      "Polynesia\n"
     ]
    }
   ],
   "source": [
    "def get_mapping(x):\n",
    "    try:\n",
    "        return synonyms[x]\n",
    "    except KeyError:\n",
    "        print(x)\n",
    "        return to_concept_id(x)\n",
    "\n",
    "data['Country'] = data['Country'].map(get_mapping)"
   ]
  },
  {
   "cell_type": "code",
   "execution_count": 6,
   "id": "1ab5f365",
   "metadata": {},
   "outputs": [],
   "source": [
    "df = data.set_index(['Country', 'Year'])"
   ]
  },
  {
   "cell_type": "code",
   "execution_count": 7,
   "id": "fd0e3dea",
   "metadata": {},
   "outputs": [
    {
     "data": {
      "text/plain": [
       "Index([' Adults (Thousands)', ' Mean Wealth per Adult',\n",
       "       ' Median Wealth per Adult', ' Adults % under 10000',\n",
       "       ' Adults % between 10000-100k', ' Adults % between 100k-1M',\n",
       "       ' Adults % over 1M', ' Total', ' Gini %'],\n",
       "      dtype='object')"
      ]
     },
     "execution_count": 7,
     "metadata": {},
     "output_type": "execute_result"
    }
   ],
   "source": [
    "df.columns"
   ]
  },
  {
   "cell_type": "code",
   "execution_count": 8,
   "id": "4a6afc10",
   "metadata": {},
   "outputs": [],
   "source": [
    "indicators1 = df[[' Adults (Thousands)', ' Mean Wealth per Adult',\n",
    "                  ' Median Wealth per Adult', ' Gini %']].copy()"
   ]
  },
  {
   "cell_type": "code",
   "execution_count": 9,
   "id": "a38f0b13",
   "metadata": {},
   "outputs": [],
   "source": [
    "indicators1.index.names = ['geo', 'time']\n",
    "indicators1 = indicators1.groupby(level=['geo']).apply(lambda x: x)\n",
    "for c in indicators1.columns:\n",
    "    ser = indicators1[c]\n",
    "    concept_id = to_concept_id(c)\n",
    "    ser.name = concept_id\n",
    "    # print(ser.head(1))\n",
    "    ser.to_csv(f'../../ddf--datapoints--{concept_id}--by--geo--time.csv')"
   ]
  },
  {
   "cell_type": "code",
   "execution_count": 34,
   "id": "24a397ec",
   "metadata": {},
   "outputs": [],
   "source": [
    "indicators2 = df[[' Adults % under 10000',\n",
    "                  ' Adults % between 10000-100k', ' Adults % between 100k-1M',\n",
    "                  ' Adults % over 1M']].copy()\n",
    "indicators2.index.names = ['geo', 'time']\n",
    "m = {\n",
    "    ' Adults % under 10000': 'under_10k',\n",
    "    ' Adults % between 10000-100k': 'between_10k_100k',\n",
    "    ' Adults % between 100k-1M': 'between_100k_1m',\n",
    "    ' Adults % over 1M': 'over_1m'\n",
    "}\n",
    "indicators2.columns = indicators2.columns.map(m)\n",
    "indicators2.columns.name = 'wealth_group'\n",
    "indicators2 = indicators2.stack()"
   ]
  },
  {
   "cell_type": "code",
   "execution_count": 48,
   "id": "997a2ac9",
   "metadata": {},
   "outputs": [
    {
     "data": {
      "text/html": [
       "<div>\n",
       "<style scoped>\n",
       "    .dataframe tbody tr th:only-of-type {\n",
       "        vertical-align: middle;\n",
       "    }\n",
       "\n",
       "    .dataframe tbody tr th {\n",
       "        vertical-align: top;\n",
       "    }\n",
       "\n",
       "    .dataframe thead th {\n",
       "        text-align: right;\n",
       "    }\n",
       "</style>\n",
       "<table border=\"1\" class=\"dataframe\">\n",
       "  <thead>\n",
       "    <tr style=\"text-align: right;\">\n",
       "      <th></th>\n",
       "      <th>geo</th>\n",
       "      <th>time</th>\n",
       "      <th>wealth_group</th>\n",
       "      <th>adult_percentage</th>\n",
       "    </tr>\n",
       "  </thead>\n",
       "  <tbody>\n",
       "    <tr>\n",
       "      <th>0</th>\n",
       "      <td>afg</td>\n",
       "      <td>2020</td>\n",
       "      <td>under_10k</td>\n",
       "      <td>97.6</td>\n",
       "    </tr>\n",
       "    <tr>\n",
       "      <th>1</th>\n",
       "      <td>afg</td>\n",
       "      <td>2020</td>\n",
       "      <td>between_10k_100k</td>\n",
       "      <td>2.4</td>\n",
       "    </tr>\n",
       "    <tr>\n",
       "      <th>2</th>\n",
       "      <td>afg</td>\n",
       "      <td>2020</td>\n",
       "      <td>between_100k_1m</td>\n",
       "      <td>0.1</td>\n",
       "    </tr>\n",
       "    <tr>\n",
       "      <th>3</th>\n",
       "      <td>afg</td>\n",
       "      <td>2020</td>\n",
       "      <td>over_1m</td>\n",
       "      <td>0.0</td>\n",
       "    </tr>\n",
       "    <tr>\n",
       "      <th>4</th>\n",
       "      <td>alb</td>\n",
       "      <td>2020</td>\n",
       "      <td>under_10k</td>\n",
       "      <td>41.0</td>\n",
       "    </tr>\n",
       "    <tr>\n",
       "      <th>...</th>\n",
       "      <td>...</td>\n",
       "      <td>...</td>\n",
       "      <td>...</td>\n",
       "      <td>...</td>\n",
       "    </tr>\n",
       "    <tr>\n",
       "      <th>6182</th>\n",
       "      <td>zmb</td>\n",
       "      <td>2012</td>\n",
       "      <td>over_1m</td>\n",
       "      <td>0.0</td>\n",
       "    </tr>\n",
       "    <tr>\n",
       "      <th>6183</th>\n",
       "      <td>zwe</td>\n",
       "      <td>2012</td>\n",
       "      <td>under_10k</td>\n",
       "      <td>95.1</td>\n",
       "    </tr>\n",
       "    <tr>\n",
       "      <th>6184</th>\n",
       "      <td>zwe</td>\n",
       "      <td>2012</td>\n",
       "      <td>between_10k_100k</td>\n",
       "      <td>4.8</td>\n",
       "    </tr>\n",
       "    <tr>\n",
       "      <th>6185</th>\n",
       "      <td>zwe</td>\n",
       "      <td>2012</td>\n",
       "      <td>between_100k_1m</td>\n",
       "      <td>0.2</td>\n",
       "    </tr>\n",
       "    <tr>\n",
       "      <th>6186</th>\n",
       "      <td>zwe</td>\n",
       "      <td>2012</td>\n",
       "      <td>over_1m</td>\n",
       "      <td>0.0</td>\n",
       "    </tr>\n",
       "  </tbody>\n",
       "</table>\n",
       "<p>6187 rows × 4 columns</p>\n",
       "</div>"
      ],
      "text/plain": [
       "      geo  time      wealth_group  adult_percentage\n",
       "0     afg  2020         under_10k              97.6\n",
       "1     afg  2020  between_10k_100k               2.4\n",
       "2     afg  2020   between_100k_1m               0.1\n",
       "3     afg  2020           over_1m               0.0\n",
       "4     alb  2020         under_10k              41.0\n",
       "...   ...   ...               ...               ...\n",
       "6182  zmb  2012           over_1m               0.0\n",
       "6183  zwe  2012         under_10k              95.1\n",
       "6184  zwe  2012  between_10k_100k               4.8\n",
       "6185  zwe  2012   between_100k_1m               0.2\n",
       "6186  zwe  2012           over_1m               0.0\n",
       "\n",
       "[6187 rows x 4 columns]"
      ]
     },
     "execution_count": 48,
     "metadata": {},
     "output_type": "execute_result"
    }
   ],
   "source": [
    "indicators2.to_frame().reset_index()"
   ]
  },
  {
   "cell_type": "code",
   "execution_count": 39,
   "id": "cb4ccfc1",
   "metadata": {},
   "outputs": [],
   "source": [
    "indicators2.name = 'adult_percentage'\n",
    "# indicators2.index.names = ['geo', 'time', 'wealth_group']\n",
    "indicators2.to_csv('../../ddf--datapoints--adult_percentage--by--geo--time--wealth_group.csv')"
   ]
  },
  {
   "cell_type": "code",
   "execution_count": null,
   "id": "034e8723",
   "metadata": {},
   "outputs": [],
   "source": []
  },
  {
   "cell_type": "code",
   "execution_count": 56,
   "id": "af99157b",
   "metadata": {},
   "outputs": [],
   "source": [
    "adults = df[' Adults (Thousands)']\n",
    "grps = indicators2.to_frame().groupby(['geo', 'time'])\n",
    "res = []\n",
    "\n",
    "def get_number(i):\n",
    "    return adults.loc[i]\n",
    "\n",
    "for k, ser in grps:\n",
    "    # print('i')\n",
    "    # print(k, ser)\n",
    "    res.append(ser * get_number(k))"
   ]
  },
  {
   "cell_type": "code",
   "execution_count": 57,
   "id": "e5496edd",
   "metadata": {},
   "outputs": [],
   "source": [
    "res1 = pd.concat(res)"
   ]
  },
  {
   "cell_type": "code",
   "execution_count": 59,
   "id": "9a3b4cda",
   "metadata": {},
   "outputs": [
    {
     "data": {
      "text/html": [
       "<div>\n",
       "<style scoped>\n",
       "    .dataframe tbody tr th:only-of-type {\n",
       "        vertical-align: middle;\n",
       "    }\n",
       "\n",
       "    .dataframe tbody tr th {\n",
       "        vertical-align: top;\n",
       "    }\n",
       "\n",
       "    .dataframe thead th {\n",
       "        text-align: right;\n",
       "    }\n",
       "</style>\n",
       "<table border=\"1\" class=\"dataframe\">\n",
       "  <thead>\n",
       "    <tr style=\"text-align: right;\">\n",
       "      <th></th>\n",
       "      <th></th>\n",
       "      <th></th>\n",
       "      <th>adult_percentage</th>\n",
       "    </tr>\n",
       "    <tr>\n",
       "      <th>geo</th>\n",
       "      <th>time</th>\n",
       "      <th>wealth_group</th>\n",
       "      <th></th>\n",
       "    </tr>\n",
       "  </thead>\n",
       "  <tbody>\n",
       "    <tr>\n",
       "      <th rowspan=\"5\" valign=\"top\">abw</th>\n",
       "      <th rowspan=\"4\" valign=\"top\">2018</th>\n",
       "      <th>under_10k</th>\n",
       "      <td>3160.0</td>\n",
       "    </tr>\n",
       "    <tr>\n",
       "      <th>between_10k_100k</th>\n",
       "      <td>3950.0</td>\n",
       "    </tr>\n",
       "    <tr>\n",
       "      <th>between_100k_1m</th>\n",
       "      <td>766.3</td>\n",
       "    </tr>\n",
       "    <tr>\n",
       "      <th>over_1m</th>\n",
       "      <td>23.7</td>\n",
       "    </tr>\n",
       "    <tr>\n",
       "      <th>2019</th>\n",
       "      <th>under_10k</th>\n",
       "      <td>2400.0</td>\n",
       "    </tr>\n",
       "    <tr>\n",
       "      <th>...</th>\n",
       "      <th>...</th>\n",
       "      <th>...</th>\n",
       "      <td>...</td>\n",
       "    </tr>\n",
       "    <tr>\n",
       "      <th rowspan=\"5\" valign=\"top\">zwe</th>\n",
       "      <th>2019</th>\n",
       "      <th>over_1m</th>\n",
       "      <td>0.0</td>\n",
       "    </tr>\n",
       "    <tr>\n",
       "      <th rowspan=\"4\" valign=\"top\">2020</th>\n",
       "      <th>under_10k</th>\n",
       "      <td>615773.4</td>\n",
       "    </tr>\n",
       "    <tr>\n",
       "      <th>between_10k_100k</th>\n",
       "      <td>88575.0</td>\n",
       "    </tr>\n",
       "    <tr>\n",
       "      <th>between_100k_1m</th>\n",
       "      <td>4251.6</td>\n",
       "    </tr>\n",
       "    <tr>\n",
       "      <th>over_1m</th>\n",
       "      <td>0.0</td>\n",
       "    </tr>\n",
       "  </tbody>\n",
       "</table>\n",
       "<p>6187 rows × 1 columns</p>\n",
       "</div>"
      ],
      "text/plain": [
       "                           adult_percentage\n",
       "geo time wealth_group                      \n",
       "abw 2018 under_10k                   3160.0\n",
       "         between_10k_100k            3950.0\n",
       "         between_100k_1m              766.3\n",
       "         over_1m                       23.7\n",
       "    2019 under_10k                   2400.0\n",
       "...                                     ...\n",
       "zwe 2019 over_1m                        0.0\n",
       "    2020 under_10k                 615773.4\n",
       "         between_10k_100k           88575.0\n",
       "         between_100k_1m             4251.6\n",
       "         over_1m                        0.0\n",
       "\n",
       "[6187 rows x 1 columns]"
      ]
     },
     "execution_count": 59,
     "metadata": {},
     "output_type": "execute_result"
    }
   ],
   "source": [
    "res1 "
   ]
  },
  {
   "cell_type": "code",
   "execution_count": 58,
   "id": "db767223",
   "metadata": {},
   "outputs": [],
   "source": [
    "levels = [10000, 100000, 1000000]\n",
    "levels_daily = list(map(lambda x: x * 0.03 / 365, levels))"
   ]
  },
  {
   "cell_type": "code",
   "execution_count": null,
   "id": "4cc5b750",
   "metadata": {},
   "outputs": [
    {
     "data": {
      "text/plain": [
       "[0.821917808219178, 8.219178082191782, 82.1917808219178]"
      ]
     },
     "execution_count": 21,
     "metadata": {},
     "output_type": "execute_result"
    }
   ],
   "source": [
    "levels_daily "
   ]
  },
  {
   "cell_type": "code",
   "execution_count": 60,
   "id": "05112113",
   "metadata": {},
   "outputs": [],
   "source": [
    "res1 = res1.reset_index()"
   ]
  },
  {
   "cell_type": "code",
   "execution_count": 61,
   "id": "abc43c18",
   "metadata": {},
   "outputs": [
    {
     "data": {
      "text/plain": [
       "array(['under_10k', 'between_10k_100k', 'between_100k_1m', 'over_1m'],\n",
       "      dtype=object)"
      ]
     },
     "execution_count": 61,
     "metadata": {},
     "output_type": "execute_result"
    }
   ],
   "source": [
    "res1.wealth_group.unique()"
   ]
  },
  {
   "cell_type": "code",
   "execution_count": 62,
   "id": "42031170",
   "metadata": {},
   "outputs": [],
   "source": [
    "m = {\n",
    "    'under_10k': 'level1',\n",
    "    'between_10k_100k': 'level2',\n",
    "    'between_100k_1m': 'level3',\n",
    "    'over_1m': 'level4',\n",
    "}"
   ]
  },
  {
   "cell_type": "code",
   "execution_count": 63,
   "id": "cc975b7c",
   "metadata": {},
   "outputs": [],
   "source": [
    "res2 = res1.copy()\n",
    "res2['income_level'] = res2['wealth_group'].map(lambda x: m[x])\n",
    "res2 = res2.drop(columns=['wealth_group'])"
   ]
  },
  {
   "cell_type": "code",
   "execution_count": 64,
   "id": "db400015",
   "metadata": {},
   "outputs": [],
   "source": [
    "res2.columns = ['geo', 'time', 'adult_percentage', 'income_level']"
   ]
  },
  {
   "cell_type": "code",
   "execution_count": 65,
   "id": "c119dbe1",
   "metadata": {},
   "outputs": [],
   "source": [
    "# new_idx = pd.MultiIndex.from_product([res2.country.unique(),\n",
    "#                                       res2.year.unique(),\n",
    "#                                       res2.income_level.unique()])\n",
    "\n",
    "res2 = res2.set_index(['geo', 'time', 'income_level'])\n",
    "# res2 = res2.reindex(new_idx)"
   ]
  },
  {
   "cell_type": "code",
   "execution_count": 66,
   "id": "6c3cdd47",
   "metadata": {},
   "outputs": [
    {
     "data": {
      "text/plain": [
       "False"
      ]
     },
     "execution_count": 66,
     "metadata": {},
     "output_type": "execute_result"
    }
   ],
   "source": [
    "res2['adult_percentage'].hasnans"
   ]
  },
  {
   "cell_type": "code",
   "execution_count": null,
   "id": "b13c3e20",
   "metadata": {},
   "outputs": [],
   "source": [
    "# res2 = res2['adult_percentage'].fillna(0)"
   ]
  },
  {
   "cell_type": "code",
   "execution_count": 67,
   "id": "3417ef23",
   "metadata": {},
   "outputs": [],
   "source": [
    "res2.name = 'population'"
   ]
  },
  {
   "cell_type": "code",
   "execution_count": 68,
   "id": "ffb0c84f",
   "metadata": {},
   "outputs": [],
   "source": [
    "res2 = np.floor(res2)\n",
    "res2.astype(int).sort_index().to_csv('../../ddf--datapoints--population--by--geo--time--income_level.csv')"
   ]
  },
  {
   "cell_type": "code",
   "execution_count": null,
   "id": "324959db",
   "metadata": {},
   "outputs": [],
   "source": []
  },
  {
   "cell_type": "code",
   "execution_count": 69,
   "id": "b3f29b47",
   "metadata": {},
   "outputs": [],
   "source": [
    "res3 = indicators2.reset_index()"
   ]
  },
  {
   "cell_type": "code",
   "execution_count": 70,
   "id": "3899fd0e",
   "metadata": {},
   "outputs": [],
   "source": [
    "res3['wealth_group'] = res3['wealth_group'].map(lambda x: m[x])"
   ]
  },
  {
   "cell_type": "code",
   "execution_count": 71,
   "id": "864ef332",
   "metadata": {},
   "outputs": [
    {
     "data": {
      "text/plain": [
       "Index(['geo', 'time', 'wealth_group', 'adult_percentage'], dtype='object')"
      ]
     },
     "execution_count": 71,
     "metadata": {},
     "output_type": "execute_result"
    }
   ],
   "source": [
    "res3.columns"
   ]
  },
  {
   "cell_type": "code",
   "execution_count": 72,
   "id": "f448f44b",
   "metadata": {},
   "outputs": [],
   "source": [
    "res3.columns = ['geo', 'time', 'income_level', 'adult_percentage']"
   ]
  },
  {
   "cell_type": "code",
   "execution_count": 73,
   "id": "79cb78d0",
   "metadata": {},
   "outputs": [],
   "source": [
    "res3.to_csv('../../ddf--datapoints--adult_percentage--by--geo--time--income_level.csv', index=False)"
   ]
  },
  {
   "cell_type": "code",
   "execution_count": null,
   "id": "da243a3d",
   "metadata": {},
   "outputs": [],
   "source": [
    "# TODO: add some entities"
   ]
  },
  {
   "cell_type": "code",
   "execution_count": null,
   "id": "523f3b11",
   "metadata": {},
   "outputs": [],
   "source": []
  },
  {
   "cell_type": "code",
   "execution_count": 74,
   "id": "4e73fd5f",
   "metadata": {},
   "outputs": [],
   "source": [
    "names1=  ['Adults (Thousands)', 'Mean Wealth per Adult',\n",
    "                  'Median Wealth per Adult', ' Gini %']\n",
    "cdf = pd.DataFrame(names1)"
   ]
  },
  {
   "cell_type": "code",
   "execution_count": 75,
   "id": "350e296e",
   "metadata": {},
   "outputs": [],
   "source": [
    "cdf.columns = ['name']\n",
    "cdf[\"concept\"] = cdf['name'].map(to_concept_id)\n",
    "cdf['concept_type'] = 'measure'"
   ]
  },
  {
   "cell_type": "code",
   "execution_count": 76,
   "id": "fe9afeae",
   "metadata": {},
   "outputs": [
    {
     "data": {
      "text/html": [
       "<div>\n",
       "<style scoped>\n",
       "    .dataframe tbody tr th:only-of-type {\n",
       "        vertical-align: middle;\n",
       "    }\n",
       "\n",
       "    .dataframe tbody tr th {\n",
       "        vertical-align: top;\n",
       "    }\n",
       "\n",
       "    .dataframe thead th {\n",
       "        text-align: right;\n",
       "    }\n",
       "</style>\n",
       "<table border=\"1\" class=\"dataframe\">\n",
       "  <thead>\n",
       "    <tr style=\"text-align: right;\">\n",
       "      <th></th>\n",
       "      <th>name</th>\n",
       "      <th>concept</th>\n",
       "      <th>concept_type</th>\n",
       "    </tr>\n",
       "  </thead>\n",
       "  <tbody>\n",
       "    <tr>\n",
       "      <th>0</th>\n",
       "      <td>Adults (Thousands)</td>\n",
       "      <td>adults_thousands</td>\n",
       "      <td>measure</td>\n",
       "    </tr>\n",
       "    <tr>\n",
       "      <th>1</th>\n",
       "      <td>Mean Wealth per Adult</td>\n",
       "      <td>mean_wealth_per_adult</td>\n",
       "      <td>measure</td>\n",
       "    </tr>\n",
       "    <tr>\n",
       "      <th>2</th>\n",
       "      <td>Median Wealth per Adult</td>\n",
       "      <td>median_wealth_per_adult</td>\n",
       "      <td>measure</td>\n",
       "    </tr>\n",
       "    <tr>\n",
       "      <th>3</th>\n",
       "      <td>Gini %</td>\n",
       "      <td>gini_pct</td>\n",
       "      <td>measure</td>\n",
       "    </tr>\n",
       "  </tbody>\n",
       "</table>\n",
       "</div>"
      ],
      "text/plain": [
       "                      name                  concept concept_type\n",
       "0       Adults (Thousands)         adults_thousands      measure\n",
       "1    Mean Wealth per Adult    mean_wealth_per_adult      measure\n",
       "2  Median Wealth per Adult  median_wealth_per_adult      measure\n",
       "3                   Gini %                 gini_pct      measure"
      ]
     },
     "execution_count": 76,
     "metadata": {},
     "output_type": "execute_result"
    }
   ],
   "source": [
    "cdf"
   ]
  },
  {
   "cell_type": "code",
   "execution_count": 77,
   "id": "891379ae",
   "metadata": {},
   "outputs": [],
   "source": [
    "cdf[['concept', 'concept_type', 'name']].to_csv('../../ddf--concepts.csv', index=False)"
   ]
  },
  {
   "cell_type": "code",
   "execution_count": 78,
   "id": "06337db4",
   "metadata": {},
   "outputs": [],
   "source": [
    "cdf = pd.read_csv('../../../ddf--open_numbers/ddf--concepts.csv', dtype=str)"
   ]
  },
  {
   "cell_type": "code",
   "execution_count": 79,
   "id": "fdf78ea7",
   "metadata": {},
   "outputs": [],
   "source": [
    "cdf2= pd.read_csv('../../ddf--concepts.csv')"
   ]
  },
  {
   "cell_type": "code",
   "execution_count": 80,
   "id": "72f66288",
   "metadata": {},
   "outputs": [
    {
     "data": {
      "text/html": [
       "<div>\n",
       "<style scoped>\n",
       "    .dataframe tbody tr th:only-of-type {\n",
       "        vertical-align: middle;\n",
       "    }\n",
       "\n",
       "    .dataframe tbody tr th {\n",
       "        vertical-align: top;\n",
       "    }\n",
       "\n",
       "    .dataframe thead th {\n",
       "        text-align: right;\n",
       "    }\n",
       "</style>\n",
       "<table border=\"1\" class=\"dataframe\">\n",
       "  <thead>\n",
       "    <tr style=\"text-align: right;\">\n",
       "      <th></th>\n",
       "      <th>concept</th>\n",
       "      <th>concept_type</th>\n",
       "      <th>name</th>\n",
       "    </tr>\n",
       "  </thead>\n",
       "  <tbody>\n",
       "    <tr>\n",
       "      <th>0</th>\n",
       "      <td>adults_thousands</td>\n",
       "      <td>measure</td>\n",
       "      <td>Adults (Thousands)</td>\n",
       "    </tr>\n",
       "    <tr>\n",
       "      <th>1</th>\n",
       "      <td>mean_wealth_per_adult</td>\n",
       "      <td>measure</td>\n",
       "      <td>Mean Wealth per Adult</td>\n",
       "    </tr>\n",
       "    <tr>\n",
       "      <th>2</th>\n",
       "      <td>median_wealth_per_adult</td>\n",
       "      <td>measure</td>\n",
       "      <td>Median Wealth per Adult</td>\n",
       "    </tr>\n",
       "    <tr>\n",
       "      <th>3</th>\n",
       "      <td>gini_pct</td>\n",
       "      <td>measure</td>\n",
       "      <td>Gini %</td>\n",
       "    </tr>\n",
       "  </tbody>\n",
       "</table>\n",
       "</div>"
      ],
      "text/plain": [
       "                   concept concept_type                     name\n",
       "0         adults_thousands      measure       Adults (Thousands)\n",
       "1    mean_wealth_per_adult      measure    Mean Wealth per Adult\n",
       "2  median_wealth_per_adult      measure  Median Wealth per Adult\n",
       "3                 gini_pct      measure                   Gini %"
      ]
     },
     "execution_count": 80,
     "metadata": {},
     "output_type": "execute_result"
    }
   ],
   "source": [
    "cdf2"
   ]
  },
  {
   "cell_type": "code",
   "execution_count": 81,
   "id": "a169a547",
   "metadata": {},
   "outputs": [],
   "source": [
    "cdf = cdf.set_index('concept')\n",
    "cdf2 = cdf2.set_index('concept')"
   ]
  },
  {
   "cell_type": "code",
   "execution_count": 82,
   "id": "03e65d23",
   "metadata": {},
   "outputs": [],
   "source": [
    "cdf3 = pd.concat([cdf, cdf2])"
   ]
  },
  {
   "cell_type": "code",
   "execution_count": 83,
   "id": "77b1980b",
   "metadata": {},
   "outputs": [],
   "source": [
    "cdf3.to_csv('../../ddf--concepts.csv')"
   ]
  },
  {
   "cell_type": "code",
   "execution_count": 85,
   "id": "b9c803ad",
   "metadata": {},
   "outputs": [],
   "source": [
    "# FIXME: add entities concepts and population"
   ]
  },
  {
   "cell_type": "code",
   "execution_count": null,
   "id": "7c92fcac",
   "metadata": {},
   "outputs": [],
   "source": []
  }
 ],
 "metadata": {
  "kernelspec": {
   "display_name": "Python 3 (ipykernel)",
   "language": "python",
   "name": "python3"
  },
  "language_info": {
   "codemirror_mode": {
    "name": "ipython",
    "version": 3
   },
   "file_extension": ".py",
   "mimetype": "text/x-python",
   "name": "python",
   "nbconvert_exporter": "python",
   "pygments_lexer": "ipython3",
   "version": "3.10.2"
  },
  "name": "etl.ipynb"
 },
 "nbformat": 4,
 "nbformat_minor": 5
}
