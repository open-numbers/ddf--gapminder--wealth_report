{
 "cells": [
  {
   "cell_type": "code",
   "execution_count": 1,
   "id": "ff453e33",
   "metadata": {
    "collapsed": false
   },
   "outputs": [],
   "source": [
    "import pandas as pd\n",
    "import numpy as np\n",
    "import os"
   ]
  },
  {
   "cell_type": "code",
   "execution_count": 5,
   "id": "f8ac9b2f",
   "metadata": {
    "collapsed": false
   },
   "outputs": [],
   "source": [
    "from ddf_utils.str import to_concept_id"
   ]
  },
  {
   "cell_type": "code",
   "execution_count": 8,
   "id": "f4ad8f89",
   "metadata": {
    "collapsed": false
   },
   "outputs": [],
   "source": [
    "data = pd.read_csv('../source/Credit Suisse Wealth Report - Dataset - v1 - Data Source.csv')"
   ]
  },
  {
   "cell_type": "code",
   "execution_count": 9,
   "id": "70a3bae9",
   "metadata": {
    "collapsed": false
   },
   "outputs": [],
   "source": [
    "synonyms = pd.read_csv('../../../ddf--open_numbers/ddf--synonyms--geo.csv', dtype=str).set_index('synonym')['geo'].to_dict()"
   ]
  },
  {
   "cell_type": "code",
   "execution_count": 10,
   "id": "e39511ff",
   "metadata": {
    "collapsed": false
   },
   "outputs": [
    {
     "name": "stdout",
     "output_type": "stream",
     "text": [
      "British Caribbean\n",
      "Dutch Caribbean\n",
      "French Caribbean\n",
      "Melanesia\n",
      "Polynesia\n"
     ]
    }
   ],
   "source": [
    "def get_mapping(x):\n",
    "    try:\n",
    "        return synonyms[x]\n",
    "    except KeyError:\n",
    "        print(x)\n",
    "        return to_concept_id(x)\n",
    "\n",
    "data['Country'] = data['Country'].map(get_mapping)"
   ]
  },
  {
   "cell_type": "code",
   "execution_count": 12,
   "id": "1ab5f365",
   "metadata": {
    "collapsed": false
   },
   "outputs": [],
   "source": [
    "df = data.set_index(['Country', 'Year'])"
   ]
  },
  {
   "cell_type": "code",
   "execution_count": 13,
   "id": "fd0e3dea",
   "metadata": {
    "collapsed": false
   },
   "outputs": [
    {
     "data": {
      "text/plain": [
       "Index([' Adults (Thousands)', ' Mean Wealth per Adult',\n",
       "       ' Median Wealth per Adult', ' Adults % under 10000',\n",
       "       ' Adults % between 10000-100k', ' Adults % between 100k-1M',\n",
       "       ' Adults % over 1M', ' Total', ' Gini %'],\n",
       "      dtype='object')"
      ]
     },
     "execution_count": 13,
     "metadata": {},
     "output_type": "execute_result"
    }
   ],
   "source": [
    "df.columns"
   ]
  },
  {
   "cell_type": "code",
   "execution_count": 14,
   "id": "4a6afc10",
   "metadata": {
    "collapsed": false
   },
   "outputs": [],
   "source": [
    "indicators1 = df[[' Adults (Thousands)', ' Mean Wealth per Adult',\n",
    "                  ' Median Wealth per Adult', ' Gini %']].copy()"
   ]
  },
  {
   "cell_type": "code",
   "execution_count": 33,
   "id": "a38f0b13",
   "metadata": {
    "collapsed": false
   },
   "outputs": [],
   "source": [
    "indicators1.index.names = ['country', 'year']\n",
    "indicators1 = indicators1.groupby(level=['country']).apply(lambda x: x)\n",
    "for c in indicators1.columns:\n",
    "    ser = df[c]\n",
    "    concept_id = to_concept_id(c)\n",
    "    ser.name = concept_id\n",
    "    ser.to_csv(f'../../ddf--datapoints--{concept_id}--by--country--year.csv')"
   ]
  },
  {
   "cell_type": "code",
   "execution_count": 23,
   "id": "24a397ec",
   "metadata": {
    "collapsed": false
   },
   "outputs": [],
   "source": [
    "indicators2 = df[[' Adults % under 10000',\n",
    "                  ' Adults % between 10000-100k', ' Adults % between 100k-1M',\n",
    "                  ' Adults % over 1M']].copy()\n",
    "indicators2.index.names = ['country', 'year']\n",
    "m = {\n",
    "    ' Adults % under 10000': 'under_10k',\n",
    "    ' Adults % between 10000-100k': 'between_10k_100k',\n",
    "    ' Adults % between 100k-1M': 'between_100k_1m',\n",
    "    ' Adults % over 1M': 'over_1m'\n",
    "}\n",
    "indicators2.columns = indicators2.columns.map(m)\n",
    "indicators2.columns.name = 'wealth_group'\n",
    "indicators2 = indicators2.stack()"
   ]
  },
  {
   "cell_type": "code",
   "execution_count": 24,
   "id": "997a2ac9",
   "metadata": {
    "collapsed": false
   },
   "outputs": [
    {
     "data": {
      "text/plain": [
       "country  year  wealth_group    \n",
       "afg      2020  under_10k           97.6\n",
       "               between_10k_100k     2.4\n",
       "               between_100k_1m      0.1\n",
       "               over_1m              0.0\n",
       "alb      2020  under_10k           41.0\n",
       "                                   ... \n",
       "zmb      2012  over_1m              0.0\n",
       "zwe      2012  under_10k           95.1\n",
       "               between_10k_100k     4.8\n",
       "               between_100k_1m      0.2\n",
       "               over_1m              0.0\n",
       "Length: 6187, dtype: float64"
      ]
     },
     "execution_count": 24,
     "metadata": {},
     "output_type": "execute_result"
    }
   ],
   "source": [
    "indicators2"
   ]
  },
  {
   "cell_type": "code",
   "execution_count": 25,
   "id": "cb4ccfc1",
   "metadata": {
    "collapsed": false
   },
   "outputs": [],
   "source": [
    "indicators2.name = 'adult_percentage'\n",
    "indicators2.to_csv('../../ddf--datapoints--adult_percentage--by--country--year--wealth_group.csv')"
   ]
  },
  {
   "cell_type": "code",
   "execution_count": 36,
   "id": "af99157b",
   "metadata": {
    "collapsed": false
   },
   "outputs": [],
   "source": [
    "adults = df[' Adults (Thousands)']\n",
    "grps = indicators2.groupby(['country', 'year'])\n",
    "res = []\n",
    "\n",
    "def get_number(i):\n",
    "    return adults.loc[i]\n",
    "\n",
    "for k, ser in grps:\n",
    "    res.append(ser * get_number(k))"
   ]
  },
  {
   "cell_type": "code",
   "execution_count": 41,
   "id": "e5496edd",
   "metadata": {
    "collapsed": false
   },
   "outputs": [],
   "source": [
    "res1 = pd.concat(res)"
   ]
  },
  {
   "cell_type": "code",
   "execution_count": 43,
   "id": "db767223",
   "metadata": {
    "collapsed": false
   },
   "outputs": [],
   "source": [
    "levels = [10000, 100000, 1000000]\n",
    "levels_daily = list(map(lambda x: x * 0.03 / 365, levels))\n"
   ]
  },
  {
   "cell_type": "code",
   "execution_count": 44,
   "id": "4cc5b750",
   "metadata": {
    "collapsed": false
   },
   "outputs": [
    {
     "data": {
      "text/plain": [
       "[0.821917808219178, 8.219178082191782, 82.1917808219178]"
      ]
     },
     "execution_count": 44,
     "metadata": {},
     "output_type": "execute_result"
    }
   ],
   "source": [
    "levels_daily "
   ]
  },
  {
   "cell_type": "code",
   "execution_count": 46,
   "id": "05112113",
   "metadata": {
    "collapsed": false
   },
   "outputs": [],
   "source": [
    "res1 = res1.reset_index()"
   ]
  },
  {
   "cell_type": "code",
   "execution_count": 48,
   "id": "abc43c18",
   "metadata": {
    "collapsed": false
   },
   "outputs": [
    {
     "data": {
      "text/plain": [
       "array(['under_10k', 'between_10k_100k', 'between_100k_1m', 'over_1m'],\n",
       "      dtype=object)"
      ]
     },
     "execution_count": 48,
     "metadata": {},
     "output_type": "execute_result"
    }
   ],
   "source": [
    "res1.wealth_group.unique()"
   ]
  },
  {
   "cell_type": "code",
   "execution_count": 49,
   "id": "42031170",
   "metadata": {
    "collapsed": false
   },
   "outputs": [],
   "source": [
    "m = {\n",
    "    'under_10k': 'level1',\n",
    "    'between_10k_100k': 'level2',\n",
    "    'between_100k_1m': 'level3',\n",
    "    'over_1m': 'level4',\n",
    "}"
   ]
  },
  {
   "cell_type": "code",
   "execution_count": 70,
   "id": "cc975b7c",
   "metadata": {
    "collapsed": false
   },
   "outputs": [],
   "source": [
    "res2 = res1.copy()\n",
    "res2['income_level'] = res2['wealth_group'].map(lambda x: m[x])\n",
    "res2 = res2.drop(columns=['wealth_group'])"
   ]
  },
  {
   "cell_type": "code",
   "execution_count": 71,
   "id": "c119dbe1",
   "metadata": {
    "collapsed": false
   },
   "outputs": [],
   "source": [
    "# new_idx = pd.MultiIndex.from_product([res2.country.unique(),\n",
    "#                                       res2.year.unique(),\n",
    "#                                       res2.income_level.unique()])\n",
    "\n",
    "res2 = res2.set_index(['country', 'year', 'income_level'])\n",
    "# res2 = res2.reindex(new_idx)"
   ]
  },
  {
   "cell_type": "code",
   "execution_count": 72,
   "id": "6c3cdd47",
   "metadata": {
    "collapsed": false
   },
   "outputs": [
    {
     "data": {
      "text/plain": [
       "False"
      ]
     },
     "execution_count": 72,
     "metadata": {},
     "output_type": "execute_result"
    }
   ],
   "source": [
    "res2['adult_percentage'].hasnans"
   ]
  },
  {
   "cell_type": "code",
   "execution_count": 63,
   "id": "b13c3e20",
   "metadata": {
    "collapsed": false
   },
   "outputs": [],
   "source": [
    "# res2 = res2['adult_percentage'].fillna(0)"
   ]
  },
  {
   "cell_type": "code",
   "execution_count": 73,
   "id": "3417ef23",
   "metadata": {
    "collapsed": false
   },
   "outputs": [],
   "source": [
    "res2.name = 'population'"
   ]
  },
  {
   "cell_type": "code",
   "execution_count": 74,
   "id": "ffb0c84f",
   "metadata": {
    "collapsed": false
   },
   "outputs": [],
   "source": [
    "res2 = np.floor(res2)\n",
    "res2.astype(int).sort_index().to_csv('../../ddf--datapoints--population--by--country--year--income_level.csv')"
   ]
  },
  {
   "cell_type": "code",
   "execution_count": 77,
   "id": "4e73fd5f",
   "metadata": {
    "collapsed": false
   },
   "outputs": [],
   "source": [
    "names1=  ['Adults (Thousands)', 'Mean Wealth per Adult',\n",
    "                  'Median Wealth per Adult', ' Gini %']\n",
    "cdf = pd.DataFrame(names1)"
   ]
  },
  {
   "cell_type": "code",
   "execution_count": 78,
   "id": "350e296e",
   "metadata": {
    "collapsed": false
   },
   "outputs": [],
   "source": [
    "cdf.columns = ['name']\n",
    "cdf[\"concept\"] = cdf['name'].map(to_concept_id)\n",
    "cdf['concept_type'] = 'measure'"
   ]
  },
  {
   "cell_type": "code",
   "execution_count": 79,
   "id": "fe9afeae",
   "metadata": {
    "collapsed": false
   },
   "outputs": [
    {
     "data": {
      "text/html": [
       "<div>\n",
       "<style scoped>\n",
       "    .dataframe tbody tr th:only-of-type {\n",
       "        vertical-align: middle;\n",
       "    }\n",
       "\n",
       "    .dataframe tbody tr th {\n",
       "        vertical-align: top;\n",
       "    }\n",
       "\n",
       "    .dataframe thead th {\n",
       "        text-align: right;\n",
       "    }\n",
       "</style>\n",
       "<table border=\"1\" class=\"dataframe\">\n",
       "  <thead>\n",
       "    <tr style=\"text-align: right;\">\n",
       "      <th></th>\n",
       "      <th>name</th>\n",
       "      <th>concept</th>\n",
       "      <th>concept_type</th>\n",
       "    </tr>\n",
       "  </thead>\n",
       "  <tbody>\n",
       "    <tr>\n",
       "      <th>0</th>\n",
       "      <td>Adults (Thousands)</td>\n",
       "      <td>adults_thousands</td>\n",
       "      <td>measure</td>\n",
       "    </tr>\n",
       "    <tr>\n",
       "      <th>1</th>\n",
       "      <td>Mean Wealth per Adult</td>\n",
       "      <td>mean_wealth_per_adult</td>\n",
       "      <td>measure</td>\n",
       "    </tr>\n",
       "    <tr>\n",
       "      <th>2</th>\n",
       "      <td>Median Wealth per Adult</td>\n",
       "      <td>median_wealth_per_adult</td>\n",
       "      <td>measure</td>\n",
       "    </tr>\n",
       "    <tr>\n",
       "      <th>3</th>\n",
       "      <td>Gini %</td>\n",
       "      <td>gini_pct</td>\n",
       "      <td>measure</td>\n",
       "    </tr>\n",
       "  </tbody>\n",
       "</table>\n",
       "</div>"
      ],
      "text/plain": [
       "                      name                  concept concept_type\n",
       "0       Adults (Thousands)         adults_thousands      measure\n",
       "1    Mean Wealth per Adult    mean_wealth_per_adult      measure\n",
       "2  Median Wealth per Adult  median_wealth_per_adult      measure\n",
       "3                   Gini %                 gini_pct      measure"
      ]
     },
     "execution_count": 79,
     "metadata": {},
     "output_type": "execute_result"
    }
   ],
   "source": [
    "cdf"
   ]
  },
  {
   "cell_type": "code",
   "execution_count": 80,
   "id": "891379ae",
   "metadata": {
    "collapsed": false
   },
   "outputs": [],
   "source": [
    "cdf[['concept', 'concept_type', 'name']].to_csv('../../ddf--concepts.csv', index=False)"
   ]
  },
  {
   "cell_type": "code",
   "execution_count": 81,
   "id": "06337db4",
   "metadata": {
    "collapsed": false
   },
   "outputs": [],
   "source": [
    "cdf = pd.read_csv('../../../ddf--open_numbers/ddf--concepts.csv', dtype=str)"
   ]
  },
  {
   "cell_type": "code",
   "execution_count": 83,
   "id": "fdf78ea7",
   "metadata": {
    "collapsed": false
   },
   "outputs": [],
   "source": [
    "cdf2= pd.read_csv('../../ddf--concepts.csv')"
   ]
  },
  {
   "cell_type": "code",
   "execution_count": 84,
   "id": "72f66288",
   "metadata": {
    "collapsed": false
   },
   "outputs": [
    {
     "data": {
      "text/html": [
       "<div>\n",
       "<style scoped>\n",
       "    .dataframe tbody tr th:only-of-type {\n",
       "        vertical-align: middle;\n",
       "    }\n",
       "\n",
       "    .dataframe tbody tr th {\n",
       "        vertical-align: top;\n",
       "    }\n",
       "\n",
       "    .dataframe thead th {\n",
       "        text-align: right;\n",
       "    }\n",
       "</style>\n",
       "<table border=\"1\" class=\"dataframe\">\n",
       "  <thead>\n",
       "    <tr style=\"text-align: right;\">\n",
       "      <th></th>\n",
       "      <th>concept</th>\n",
       "      <th>concept_type</th>\n",
       "      <th>name</th>\n",
       "      <th>domain</th>\n",
       "    </tr>\n",
       "  </thead>\n",
       "  <tbody>\n",
       "    <tr>\n",
       "      <th>0</th>\n",
       "      <td>adults_thousands</td>\n",
       "      <td>measure</td>\n",
       "      <td>Adults (Thousands)</td>\n",
       "      <td>NaN</td>\n",
       "    </tr>\n",
       "    <tr>\n",
       "      <th>1</th>\n",
       "      <td>mean_wealth_per_adult</td>\n",
       "      <td>measure</td>\n",
       "      <td>Mean Wealth per Adult</td>\n",
       "      <td>NaN</td>\n",
       "    </tr>\n",
       "    <tr>\n",
       "      <th>2</th>\n",
       "      <td>median_wealth_per_adult</td>\n",
       "      <td>measure</td>\n",
       "      <td>Median Wealth per Adult</td>\n",
       "      <td>NaN</td>\n",
       "    </tr>\n",
       "    <tr>\n",
       "      <th>3</th>\n",
       "      <td>gini_pct</td>\n",
       "      <td>measure</td>\n",
       "      <td>Gini %</td>\n",
       "      <td>NaN</td>\n",
       "    </tr>\n",
       "    <tr>\n",
       "      <th>4</th>\n",
       "      <td>population</td>\n",
       "      <td>measure</td>\n",
       "      <td>Population</td>\n",
       "      <td>NaN</td>\n",
       "    </tr>\n",
       "    <tr>\n",
       "      <th>5</th>\n",
       "      <td>adult_percentage</td>\n",
       "      <td>measure</td>\n",
       "      <td>Adult percentage</td>\n",
       "      <td>NaN</td>\n",
       "    </tr>\n",
       "    <tr>\n",
       "      <th>6</th>\n",
       "      <td>income_level</td>\n",
       "      <td>entity_domain</td>\n",
       "      <td>Income level</td>\n",
       "      <td>NaN</td>\n",
       "    </tr>\n",
       "    <tr>\n",
       "      <th>7</th>\n",
       "      <td>wealth_group</td>\n",
       "      <td>entity_domain</td>\n",
       "      <td>Wealth group</td>\n",
       "      <td>NaN</td>\n",
       "    </tr>\n",
       "  </tbody>\n",
       "</table>\n",
       "</div>"
      ],
      "text/plain": [
       "                   concept   concept_type                     name  domain\n",
       "0         adults_thousands        measure       Adults (Thousands)     NaN\n",
       "1    mean_wealth_per_adult        measure    Mean Wealth per Adult     NaN\n",
       "2  median_wealth_per_adult        measure  Median Wealth per Adult     NaN\n",
       "3                 gini_pct        measure                   Gini %     NaN\n",
       "4               population        measure               Population     NaN\n",
       "5         adult_percentage        measure         Adult percentage     NaN\n",
       "6             income_level  entity_domain             Income level     NaN\n",
       "7             wealth_group  entity_domain             Wealth group     NaN"
      ]
     },
     "execution_count": 84,
     "metadata": {},
     "output_type": "execute_result"
    }
   ],
   "source": [
    "cdf2"
   ]
  },
  {
   "cell_type": "code",
   "execution_count": 86,
   "id": "a169a547",
   "metadata": {
    "collapsed": false
   },
   "outputs": [],
   "source": [
    "cdf = cdf.set_index('concept')\n",
    "cdf2 = cdf2.set_index('concept')"
   ]
  },
  {
   "cell_type": "code",
   "execution_count": 88,
   "id": "03e65d23",
   "metadata": {
    "collapsed": false
   },
   "outputs": [],
   "source": [
    "cdf3 = pd.concat([cdf, cdf2])"
   ]
  },
  {
   "cell_type": "code",
   "execution_count": 89,
   "id": "77b1980b",
   "metadata": {
    "collapsed": false
   },
   "outputs": [],
   "source": [
    "cdf3.to_csv('../../ddf--concepts.csv')"
   ]
  },
  {
   "cell_type": "code",
   "execution_count": null,
   "id": "b9c803ad",
   "metadata": {
    "collapsed": false
   },
   "outputs": [],
   "source": []
  }
 ],
 "metadata": {
  "kernelspec": {
   "argv": [
    "python",
    "-m",
    "ipykernel_launcher",
    "-f",
    "{connection_file}"
   ],
   "display_name": "Python 3 (ipykernel)",
   "env": null,
   "interrupt_mode": "signal",
   "language": "python",
   "metadata": {
    "debugger": true
   },
   "name": "python3"
  },
  "name": "etl.ipynb"
 },
 "nbformat": 4,
 "nbformat_minor": 5
}
