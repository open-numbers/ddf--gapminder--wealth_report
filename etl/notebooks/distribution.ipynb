{
 "cells": [
  {
   "cell_type": "markdown",
   "id": "2bdad9a6",
   "metadata": {},
   "source": [
    "# create smooth distributions\n",
    "\n",
    "Our goal is to create smooth shapes from this dataset and connect them with income mountain as the long tail for income mountain.\n",
    "\n",
    "First of all we will look at what's available in this dataset"
   ]
  },
  {
   "cell_type": "markdown",
   "id": "380f2d3d",
   "metadata": {},
   "source": [
    "The groups available are\n",
    "\n",
    "- < 10,000\n",
    "- between 10,000 and 100,000\n",
    "- between 100,000 and 1,000,000\n",
    "- \\> 1,000,000 \n",
    "\n",
    "these are wealth groups and we should convert them to daily income using this formula\n",
    "\n",
    "`income = wealth * 0.03 / 365`\n",
    "\n",
    "(Assuming the annual growth rate of capital is 3%)"
   ]
  },
  {
   "cell_type": "code",
   "execution_count": 4,
   "id": "3a0d4ecf",
   "metadata": {},
   "outputs": [
    {
     "name": "stdout",
     "output_type": "stream",
     "text": [
      "10000 :  0.821917808219178 $/day\n",
      "100000 :  8.219178082191782 $/day\n",
      "1000000 :  82.1917808219178 $/day\n"
     ]
    }
   ],
   "source": [
    "levels = [10000, 100000, 1000000]\n",
    "\n",
    "def wealth_to_daily_income(x):\n",
    "    return x * 0.03 / 365\n",
    "\n",
    "_ = [print(x, ': ', wealth_to_daily_income(x), '$/day') for x in levels]"
   ]
  },
  {
   "cell_type": "markdown",
   "id": "8b6459ac",
   "metadata": {},
   "source": [
    "Also convert daily income to the group number we are using in income mountains"
   ]
  },
  {
   "cell_type": "code",
   "execution_count": 5,
   "id": "bf20a3f0",
   "metadata": {},
   "outputs": [],
   "source": [
    "all_brackets = np.logspace(-7, 13, 51, endpoint=True, base=2)\n",
    "brackets_delta = (13 - (-7)) / 50\n",
    "\n",
    "\n",
    "def bracket_number_from_income(s, mountly=False, integer=True):\n",
    "    if mountly:  # calculate daily income\n",
    "        res = ((np.log2(s / 30) + 7) / brackets_delta)\n",
    "    else:\n",
    "        res = ((np.log2(s) + 7) / brackets_delta)\n",
    "    if integer:\n",
    "        return res.astype(int)\n",
    "    return res"
   ]
  },
  {
   "cell_type": "code",
   "execution_count": 6,
   "id": "85848d8d",
   "metadata": {},
   "outputs": [
    {
     "name": "stdout",
     "output_type": "stream",
     "text": [
      "10000 : in group 16\n",
      "100000 : in group 25\n",
      "1000000 : in group 33\n"
     ]
    }
   ],
   "source": [
    "levels_groups = [bracket_number_from_income(wealth_to_daily_income(x), integer=True) for x in levels]\n",
    "_ = [print(x, ': in group', y) for x, y in zip(levels, levels_groups)]"
   ]
  },
  {
   "cell_type": "markdown",
   "id": "5e8a927d",
   "metadata": {},
   "source": [
    "So the available groups in terms of income mountain group numbers are\n",
    "\n",
    "- < 16\n",
    "- 16 - 25\n",
    "- 25 - 33\n",
    "- \\> 33\n",
    "\n",
    "There is no upper bound / lower bound for these groups. Let's add the boundaries\n",
    "\n",
    "For lower bound, just use group 0\n",
    "\n",
    "for upper bound, we use the group number calculated with daily income for Bezos and add by 2 \n"
   ]
  },
  {
   "cell_type": "code",
   "execution_count": 7,
   "id": "8ceef82b",
   "metadata": {},
   "outputs": [],
   "source": [
    "max_income = 5310000000 / 365  # daily income for bezos, from Forbes dataset\n",
    "max_income_group = bracket_number_from_income(max_income) + 2"
   ]
  },
  {
   "cell_type": "code",
   "execution_count": 16,
   "id": "fd798653",
   "metadata": {},
   "outputs": [
    {
     "name": "stdout",
     "output_type": "stream",
     "text": [
      "78\n"
     ]
    }
   ],
   "source": [
    "print(max_income_group)"
   ]
  },
  {
   "cell_type": "markdown",
   "id": "b8749a2d",
   "metadata": {},
   "source": [
    "So avaliable groups in the source data are:\n",
    "\n",
    "- 0 - 16\n",
    "- 16 - 25\n",
    "- 25 - 33\n",
    "- 33 - 78\n",
    "\n",
    "And group 0 - 49 is available in income mountain dataset\n",
    "\n",
    "So we are interested in group 50 - 78. All of them are in the last group of available data\n",
    "\n",
    "Now plot some data to see it visually \n",
    "\n",
    "(for example USA 2020)"
   ]
  },
  {
   "cell_type": "code",
   "execution_count": 8,
   "id": "33271190",
   "metadata": {},
   "outputs": [],
   "source": [
    "data = pd.read_csv('../../ddf--datapoints--adult_percentage--by--geo--time--income_level.csv')\n",
    "total_adults = pd.read_csv('../../ddf--datapoints--adults_thousands--by--geo--time.csv').set_index(['geo', 'time'])"
   ]
  },
  {
   "cell_type": "code",
   "execution_count": 9,
   "id": "5dab9ba0",
   "metadata": {},
   "outputs": [],
   "source": [
    "m = {\n",
    "    'level1': levels_groups[0],\n",
    "    'level2': levels_groups[1],\n",
    "    'level3': levels_groups[2],\n",
    "    'level4': max_income_group\n",
    "    }\n",
    "    "
   ]
  },
  {
   "cell_type": "code",
   "execution_count": 10,
   "id": "868e8f95",
   "metadata": {},
   "outputs": [],
   "source": [
    "def uniform_pmf(x, n, n_begin=0):\n",
    "    xs = np.linspace(n_begin, n_begin+n, n, endpoint=False)\n",
    "    ys = np.ones(n) * (x / n)\n",
    "    return pd.Series(ys, index=xs)"
   ]
  },
  {
   "cell_type": "code",
   "execution_count": 20,
   "id": "830e9868",
   "metadata": {},
   "outputs": [],
   "source": [
    "def get_data(geo, time):\n",
    "    df = data[data['geo'] == geo].copy()\n",
    "    df['income_level'] = df['income_level'].map(lambda x: m[x])\n",
    "    df.columns = ['geo', 'time', 'income_level', 'adult_percentage']\n",
    "    dfg = df.set_index(['time', 'income_level'])['adult_percentage']\n",
    "    dfg2 = dfg.loc[time].copy()\n",
    "    return dfg2\n",
    "\n",
    "def get_uniform_dist(geo, time):\n",
    "    df = get_data(geo, time)\n",
    "    last_g = 0\n",
    "    res = []\n",
    "\n",
    "    for i, v in df.iteritems():\n",
    "        res.append(uniform_pmf(v, i - last_g, last_g))\n",
    "        last_g = i \n",
    "\n",
    "    res = pd.concat(res)\n",
    "    res.loc[78] = 0  # set last group to 0\n",
    "    return res\n",
    "\n",
    "def plot_dist(res):\n",
    "    for i, p in res.iteritems():\n",
    "        plt.bar(i, p, color='blue', alpha=0.5)\n",
    "    "
   ]
  },
  {
   "cell_type": "code",
   "execution_count": 21,
   "id": "856681bc",
   "metadata": {},
   "outputs": [
    {
     "data": {
      "image/png": "[encoded data removed]",
      "text/plain": [
       "<Figure size 720x576 with 1 Axes>"
      ]
     },
     "metadata": {
      "needs_background": "light"
     },
     "output_type": "display_data"
    }
   ],
   "source": [
    "res = get_uniform_dist('usa', 2020)\n",
    "plot_dist(res)"
   ]
  },
  {
   "cell_type": "markdown",
   "id": "32e1280a",
   "metadata": {},
   "source": [
    "In above chart, the population distributed uniformly in each group. \n",
    "\n",
    "I think that if we use the method that we used to smooth the income mountain to calculate the smooth version, the tail might be still very flat as there are too many groups with the same value\n",
    "\n",
    "also it's hard to make the entire shape looks smooth "
   ]
  },
  {
   "cell_type": "code",
   "execution_count": 14,
   "id": "1a4fcf3a",
   "metadata": {},
   "outputs": [],
   "source": [
    "import sys\n",
    "sys.path.insert(0, '../scripts')\n",
    "import smoothlib"
   ]
  },
  {
   "cell_type": "code",
   "execution_count": 41,
   "id": "e0111ee1",
   "metadata": {},
   "outputs": [
    {
     "name": "stdout",
     "output_type": "stream",
     "text": [
      "sum: 1.0\n"
     ]
    },
    {
     "data": {
      "image/png": "[encoded data removed]",
      "text/plain": [
       "<Figure size 720x576 with 1 Axes>"
      ]
     },
     "metadata": {
      "needs_background": "light"
     },
     "output_type": "display_data"
    }
   ],
   "source": [
    "r1 = smoothlib.run_smooth(res, 20, 8)\n",
    "r1 = smoothlib.run_smooth(r1, 10, 2)\n",
    "r1 = smoothlib.run_smooth(r1, 8, 2)\n",
    "r1 = smoothlib.run_smooth(r1, 5, 2)\n",
    "r1 = smoothlib.run_smooth(r1, 5, 1)\n",
    "r1 = smoothlib.run_smooth(r1, 5, 1)\n",
    "r1 = smoothlib.run_smooth(r1, 5, 1)\n",
    "r1 = smoothlib.run_smooth(r1, 5, 0)\n",
    "# make sure the curve sum to 100\n",
    "r1 = r1 / r1.sum()\n",
    "\n",
    "plot_dist(r1)\n",
    "print(\"sum:\", r1.sum())"
   ]
  },
  {
   "cell_type": "code",
   "execution_count": 17,
   "id": "08b54d5b",
   "metadata": {},
   "outputs": [],
   "source": [
    "adults = total_adults.loc['usa', 2020]['adults_thousands']"
   ]
  },
  {
   "cell_type": "code",
   "execution_count": 42,
   "id": "248b40f0",
   "metadata": {},
   "outputs": [
    {
     "data": {
      "text/plain": [
       "60    867574.180716\n",
       "61    846719.098605\n",
       "62    823941.372919\n",
       "63    799143.527922\n",
       "64    772137.585157\n",
       "65    742791.160415\n",
       "66    711032.289433\n",
       "67    676853.114698\n",
       "68    640311.445339\n",
       "69    600436.181457\n",
       "70    557751.155184\n",
       "71    512818.488208\n",
       "72    466229.224049\n",
       "73    418593.632447\n",
       "74    359102.981040\n",
       "75    303223.399423\n",
       "76    251218.514286\n",
       "77    203304.434017\n",
       "78    159646.660657\n",
       "dtype: float64"
      ]
     },
     "execution_count": 42,
     "metadata": {},
     "output_type": "execute_result"
    }
   ],
   "source": [
    "adults * r1[60:] * 1000"
   ]
  },
  {
   "cell_type": "markdown",
   "id": "5cc966bc",
   "metadata": {},
   "source": [
    "Above are number of people in each group for group > 60. There are too many people in Group > 60 in this case.\n",
    "\n",
    "Alternativly we could try to assign an other distribution to the tail, so that it's not uniformly distributed. \n",
    "\n",
    "But in this case the shape will be mainly defined by the initial distribution\n",
    "\n",
    "For example use a zeta distribution for the tail:"
   ]
  },
  {
   "cell_type": "code",
   "execution_count": 70,
   "id": "69377436",
   "metadata": {},
   "outputs": [],
   "source": [
    "# define the distribution PMF to use\n",
    "\n",
    "# import scipy.special\n",
    "# def betabinomial_pmf(x, size, a, b):\n",
    "#     return scipy.special.comb(size, x) * scipy.special.beta(x + a, size - x + b) / scipy.special.beta(a, b)\n",
    "# # calling function\n",
    "# pmf = betabinomial_pmf(np.linspace(0, 16, 17) , 16, 5, 1)\n",
    "\n",
    "# for i, p in enumerate(pmf):\n",
    "#     plt.bar(i, p, color='blue', alpha=.5)"
   ]
  },
  {
   "cell_type": "code",
   "execution_count": 45,
   "id": "5a87b0b4",
   "metadata": {},
   "outputs": [],
   "source": [
    "from scipy.stats import zipf"
   ]
  },
  {
   "cell_type": "code",
   "execution_count": 115,
   "id": "e94fde5f",
   "metadata": {},
   "outputs": [
    {
     "name": "stdout",
     "output_type": "stream",
     "text": [
      "the tail distribution:\n"
     ]
    },
    {
     "data": {
      "image/png": "[encoded data removed]",
      "text/plain": [
       "<Figure size 720x576 with 1 Axes>"
      ]
     },
     "metadata": {
      "needs_background": "light"
     },
     "output_type": "display_data"
    }
   ],
   "source": [
    "print(\"the tail distribution:\")\n",
    "xs = np.linspace(0, 30, 31)\n",
    "for i in xs:\n",
    "    plt.bar(i, zipf.pmf(i, 3), color='blue', alpha=.5)"
   ]
  },
  {
   "cell_type": "code",
   "execution_count": 48,
   "id": "8326d38e",
   "metadata": {},
   "outputs": [
    {
     "data": {
      "text/plain": [
       "0.9995529782629969"
      ]
     },
     "execution_count": 48,
     "metadata": {},
     "output_type": "execute_result"
    }
   ],
   "source": [
    "zipf.pmf(xs, 3).sum()"
   ]
  },
  {
   "cell_type": "code",
   "execution_count": 75,
   "id": "74ece54d",
   "metadata": {},
   "outputs": [
    {
     "data": {
      "text/plain": [
       "income_level\n",
       "16    26.3\n",
       "25    28.5\n",
       "33    36.4\n",
       "78     8.8\n",
       "Name: adult_percentage, dtype: float64"
      ]
     },
     "execution_count": 75,
     "metadata": {},
     "output_type": "execute_result"
    }
   ],
   "source": [
    "dfg2 = get_data('usa', 2020)\n",
    "dfg2"
   ]
  },
  {
   "cell_type": "code",
   "execution_count": 86,
   "id": "2b83d435",
   "metadata": {},
   "outputs": [],
   "source": [
    "# dist before 16\n",
    "num = 16\n",
    "xs = np.linspace(0, num-1, num)\n",
    "# ps = xs / xs.sum()\n",
    "# df16 = pd.Series(ps, index=xs) * dfg2.loc[16]\n",
    "df16 = uniform_pmf(dfg2.loc[16], num)\n",
    "# df16 = pd.Series(ps, index=xs)\n",
    "# df16 = df16.sort_index()"
   ]
  },
  {
   "cell_type": "code",
   "execution_count": 88,
   "id": "10d7a9ef",
   "metadata": {},
   "outputs": [
    {
     "data": {
      "text/plain": [
       "26.3"
      ]
     },
     "execution_count": 88,
     "metadata": {},
     "output_type": "execute_result"
    }
   ],
   "source": [
    "df16.sum()"
   ]
  },
  {
   "cell_type": "code",
   "execution_count": 89,
   "id": "f205fa6e",
   "metadata": {},
   "outputs": [],
   "source": [
    "# dist after 33\n",
    "num = 78 - 34\n",
    "xs = np.linspace(0, num, num+1)\n",
    "# ps = xs / xs.sum()\n",
    "# df76 = pd.Series(ps, index=xs[::-1]+34) * dfg2.loc[76]\n",
    "# ps = betabinomial_pmf(xs, num, 5, 1) * dfg2.loc[76]\n",
    "ps = zipf.pmf(xs+1, 4)\n",
    "df76 = pd.Series(ps, index=xs+34) * dfg2.loc[78]\n",
    "df76 = df76.sort_index()"
   ]
  },
  {
   "cell_type": "code",
   "execution_count": 90,
   "id": "45aa8c2b",
   "metadata": {},
   "outputs": [
    {
     "data": {
      "text/plain": [
       "8.799971234933102"
      ]
     },
     "execution_count": 90,
     "metadata": {},
     "output_type": "execute_result"
    }
   ],
   "source": [
    "df76.sum()"
   ]
  },
  {
   "cell_type": "code",
   "execution_count": 102,
   "id": "be04f2f5",
   "metadata": {},
   "outputs": [],
   "source": [
    "# 16-25\n",
    "num = 25 - 15\n",
    "fst = df16.iloc[-1]\n",
    "mean = dfg2.iloc[1] / num\n",
    "total = dfg2.iloc[1]\n",
    "sumnum = sum([n for n in range(num)])\n",
    "\n",
    "step = (total - num * fst) / sumnum\n",
    "\n",
    "# print(total, mean)"
   ]
  },
  {
   "cell_type": "code",
   "execution_count": 103,
   "id": "b0d46f28",
   "metadata": {},
   "outputs": [],
   "source": [
    "# xs = [(fst + n * step) for n in range(num)]\n",
    "xs = np.ones(num) * mean\n",
    "d2 = pd.Series(xs, index=range(16, 26))"
   ]
  },
  {
   "cell_type": "code",
   "execution_count": 93,
   "id": "5d95b375",
   "metadata": {},
   "outputs": [],
   "source": [
    "# 25-33\n",
    "num = 33 - 25\n",
    "last = df76.iloc[0]\n",
    "total = dfg2.iloc[2]\n",
    "mean = total / num\n",
    "sumnum = sum([n for n in range(num)])\n",
    "\n",
    "step = (total - num * last) / sumnum\n",
    "\n",
    "# print(total, mean)"
   ]
  },
  {
   "cell_type": "code",
   "execution_count": 94,
   "id": "fcca18c1",
   "metadata": {},
   "outputs": [],
   "source": [
    "# xs = [(last + n * step) for n in range(num)]\n",
    "# d3 = pd.Series(xs[::-1], index=range(26, 34))\n",
    "xs = np.ones(num) * mean\n",
    "d3 = pd.Series(xs, index=range(26, 34))"
   ]
  },
  {
   "cell_type": "code",
   "execution_count": 109,
   "id": "7a00aab9",
   "metadata": {},
   "outputs": [],
   "source": [
    "dist = pd.concat([df16, d2, d3, df76], verify_integrity=True)\n",
    "# append group 77\n",
    "# dist.loc[77] = 0"
   ]
  },
  {
   "cell_type": "code",
   "execution_count": 110,
   "id": "9175621c",
   "metadata": {},
   "outputs": [
    {
     "name": "stdout",
     "output_type": "stream",
     "text": [
      "0.999999712349331\n"
     ]
    }
   ],
   "source": [
    "dist = dist.sort_index()\n",
    "dist = dist / 100\n",
    "print(dist.sum())  # should be 100%"
   ]
  },
  {
   "cell_type": "code",
   "execution_count": 108,
   "id": "c194a3ca",
   "metadata": {},
   "outputs": [
    {
     "data": {
      "image/png": "[encoded data removed]",
      "text/plain": [
       "<Figure size 720x576 with 1 Axes>"
      ]
     },
     "metadata": {
      "needs_background": "light"
     },
     "output_type": "display_data"
    }
   ],
   "source": [
    "plot_dist(dist)"
   ]
  },
  {
   "cell_type": "code",
   "execution_count": 111,
   "id": "dd56d321",
   "metadata": {},
   "outputs": [
    {
     "data": {
      "image/png": "[encoded data removed]",
      "text/plain": [
       "<Figure size 720x576 with 1 Axes>"
      ]
     },
     "metadata": {
      "needs_background": "light"
     },
     "output_type": "display_data"
    }
   ],
   "source": [
    "r1 = smoothlib.run_smooth(dist, 20, 6)\n",
    "r1 = smoothlib.run_smooth(r1, 10, 2)\n",
    "# r1 = smoothlib.run_smooth(r1, 8, 1)\n",
    "# r1 = smoothlib.run_smooth(r1, 5, 1)\n",
    "# r1 = smoothlib.run_smooth(r1, 5, 0)\n",
    "# make sure the curve sum to 100\n",
    "r1 = r1 / r1.sum()\n",
    "\n",
    "plot_dist(r1)\n"
   ]
  },
  {
   "cell_type": "code",
   "execution_count": 112,
   "id": "3ac2d88f",
   "metadata": {},
   "outputs": [
    {
     "data": {
      "text/plain": [
       "60    150.843317\n",
       "61    127.937727\n",
       "62    111.314161\n",
       "63     96.359597\n",
       "64     85.185670\n",
       "65     75.012767\n",
       "66     65.676841\n",
       "67     58.516406\n",
       "68     51.890258\n",
       "69     46.297453\n",
       "70     41.111427\n",
       "71     36.278985\n",
       "72     31.756461\n",
       "73     28.124068\n",
       "74     24.709502\n",
       "75     21.501879\n",
       "76     18.477549\n",
       "77     15.616696\n",
       "78     12.902553\n",
       "dtype: float64"
      ]
     },
     "execution_count": 112,
     "metadata": {},
     "output_type": "execute_result"
    }
   ],
   "source": [
    "adults * r1[60:] * 1000"
   ]
  },
  {
   "cell_type": "markdown",
   "id": "44fe641f",
   "metadata": {},
   "source": [
    "This time the data looks better, but still it's a bit too much for people in group 77/78, which is expected to be 0 because Bezos is in group 76"
   ]
  },
  {
   "cell_type": "code",
   "execution_count": null,
   "id": "83f97149",
   "metadata": {},
   "outputs": [],
   "source": []
  },
  {
   "cell_type": "code",
   "execution_count": null,
   "id": "859f38ce",
   "metadata": {},
   "outputs": [],
   "source": []
  },
  {
   "cell_type": "code",
   "execution_count": null,
   "id": "33f43a80",
   "metadata": {},
   "outputs": [],
   "source": []
  },
  {
   "cell_type": "code",
   "execution_count": null,
   "id": "8cb41e5e",
   "metadata": {},
   "outputs": [],
   "source": []
  },
  {
   "cell_type": "code",
   "execution_count": null,
   "id": "fe727334",
   "metadata": {},
   "outputs": [],
   "source": []
  },
  {
   "cell_type": "code",
   "execution_count": null,
   "id": "a22dcc4b",
   "metadata": {},
   "outputs": [],
   "source": []
  },
  {
   "cell_type": "code",
   "execution_count": 113,
   "id": "1da8db48",
   "metadata": {},
   "outputs": [],
   "source": [
    "# importing libraries for the notebook"
   ]
  },
  {
   "cell_type": "code",
   "execution_count": 1,
   "id": "7b143658",
   "metadata": {},
   "outputs": [],
   "source": [
    "import pandas as pd\n",
    "import numpy as np"
   ]
  },
  {
   "cell_type": "code",
   "execution_count": 2,
   "id": "8de31c38",
   "metadata": {},
   "outputs": [],
   "source": [
    "import matplotlib\n",
    "import matplotlib.pyplot as plt\n",
    "\n",
    "%matplotlib inline"
   ]
  },
  {
   "cell_type": "code",
   "execution_count": 3,
   "id": "7ec7d324",
   "metadata": {},
   "outputs": [],
   "source": [
    "plt.rcParams['figure.figsize'] = [10, 8]"
   ]
  },
  {
   "cell_type": "code",
   "execution_count": null,
   "id": "83e86af6",
   "metadata": {},
   "outputs": [],
   "source": []
  }
 ],
 "metadata": {
  "kernelspec": {
   "display_name": "Python 3 (ipykernel)",
   "language": "python",
   "name": "python3"
  },
  "language_info": {
   "codemirror_mode": {
    "name": "ipython",
    "version": 3
   },
   "file_extension": ".py",
   "mimetype": "text/x-python",
   "name": "python",
   "nbconvert_exporter": "python",
   "pygments_lexer": "ipython3",
   "version": "3.9.7"
  }
 },
 "nbformat": 4,
 "nbformat_minor": 5
}
